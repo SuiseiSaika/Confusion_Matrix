{
 "cells": [
  {
   "cell_type": "code",
   "execution_count": 31,
   "metadata": {},
   "outputs": [],
   "source": [
    "from prettytable import PrettyTable "
   ]
  },
  {
   "cell_type": "code",
   "execution_count": 62,
   "metadata": {},
   "outputs": [],
   "source": [
    "def ConMat(truepositive, truenegative, falsepositive, falsenegative):\n",
    "    \n",
    "    table = PrettyTable(['Confusion Matrix', 'Predict_Positive','Predict_Negative'])\n",
    "    table.add_row(['Actual_Positive', truepositive, falsenegative])\n",
    "    table.add_row(['Actual_Negative', falsepositive, truenegative])\n",
    "    print(table)\n",
    "    \n",
    "    p = truepositive+falsenegative\n",
    "    n = truenegative+falsepositive\n",
    "    print('Positive = ', p, ', Negative = ', n)\n",
    "    print('Accuracy of positive class : %2d %%' % (100 * truepositive / p))\n",
    "    print('Accuracy of negative class: %2d %%' % (100 * truenegative / n))\n",
    "                  \n",
    "    precision = truepositive/(truepositive+falsepositive)*100\n",
    "    recall = truepositive/(truepositive+falsenegative)*100\n",
    "    f1 = 2*precision*recall/(precision+recall)\n",
    "    f2 = 5*precision*recall/(4*precision+recall)\n",
    "\n",
    "    print('\\nPrecision = %.2f %%'% precision, \n",
    "          '\\nRecall    = %.2f %%'% recall, \n",
    "          '\\nF1-Score  = %.2f %%'% f1, \n",
    "          '\\nF2-Score  = %.2f %%'% f2)\n",
    "    \n"
   ]
  },
  {
   "cell_type": "code",
   "execution_count": 64,
   "metadata": {},
   "outputs": [
    {
     "name": "stdout",
     "output_type": "stream",
     "text": [
      "+------------------+------------------+------------------+\n",
      "| Confusion Matrix | Predict_Positive | Predict_Negative |\n",
      "+------------------+------------------+------------------+\n",
      "| Actual_Positive  |       370        |        20        |\n",
      "| Actual_Negative  |        47        |       187        |\n",
      "+------------------+------------------+------------------+\n",
      "Positive =  390 , Negative =  234\n",
      "Accuracy of positive class : 94 %\n",
      "Accuracy of negative class: 79 %\n",
      "\n",
      "Precision = 88.73 % \n",
      "Recall    = 94.87 % \n",
      "F1-Score  = 91.70 % \n",
      "F2-Score  = 93.58 %\n"
     ]
    }
   ],
   "source": [
    "ConMat(370,187,47,20)"
   ]
  }
 ],
 "metadata": {
  "kernelspec": {
   "display_name": "Python 3",
   "language": "python",
   "name": "python3"
  },
  "language_info": {
   "codemirror_mode": {
    "name": "ipython",
    "version": 3
   },
   "file_extension": ".py",
   "mimetype": "text/x-python",
   "name": "python",
   "nbconvert_exporter": "python",
   "pygments_lexer": "ipython3",
   "version": "3.7.3"
  }
 },
 "nbformat": 4,
 "nbformat_minor": 4
}
