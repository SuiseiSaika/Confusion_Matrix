{
 "cells": [
  {
   "cell_type": "code",
   "execution_count": 26,
   "metadata": {},
   "outputs": [],
   "source": [
    "def ConMat(truepositive, truenegative, falsepositive, falsenegative):\n",
    "    \n",
    "    truepositive = truepositive\n",
    "    truenegative = truenegative\n",
    "    falsepositive = falsepositive\n",
    "    falsenegative = falsenegative\n",
    "    \n",
    "    p = truepositive+falsenegative\n",
    "    n = truenegative+falsepositive\n",
    "    \n",
    "    precision = truepositive/(truepositive+falsepositive)*100\n",
    "    recall = truepositive/(truepositive+falsenegative)*100\n",
    "    f1 = 2*precision*recall/(precision+recall)\n",
    "    f2 = 5*precision*recall/(4*precision+recall)\n",
    "    print('Precision = %.2f %%'% precision,\n",
    "          'Recall = %.2f %%'% recall, \n",
    "          'F1-Score = %.2f %%'% f1, \n",
    "          'F2-Score = %.2f %%'% f2)\n",
    "    \n",
    "    print('Positive = ', p, 'Negative = ', n)"
   ]
  },
  {
   "cell_type": "code",
   "execution_count": 30,
   "metadata": {},
   "outputs": [
    {
     "name": "stdout",
     "output_type": "stream",
     "text": [
      "Precision = 82.54 % Recall = 98.21 % F1-Score = 89.70 % F2-Score = 94.61 %\n",
      "Positive =  390 Negative =  234\n"
     ]
    }
   ],
   "source": [
    "ConMat(383,153,81,7)"
   ]
  }
 ],
 "metadata": {
  "kernelspec": {
   "display_name": "Python 3",
   "language": "python",
   "name": "python3"
  },
  "language_info": {
   "codemirror_mode": {
    "name": "ipython",
    "version": 3
   },
   "file_extension": ".py",
   "mimetype": "text/x-python",
   "name": "python",
   "nbconvert_exporter": "python",
   "pygments_lexer": "ipython3",
   "version": "3.7.3"
  }
 },
 "nbformat": 4,
 "nbformat_minor": 4
}
